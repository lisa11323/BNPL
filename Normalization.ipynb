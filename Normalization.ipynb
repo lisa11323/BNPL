{
  "nbformat": 4,
  "nbformat_minor": 0,
  "metadata": {
    "colab": {
      "provenance": [],
      "include_colab_link": true
    },
    "kernelspec": {
      "name": "python3",
      "display_name": "Python 3"
    },
    "language_info": {
      "name": "python"
    }
  },
  "cells": [
    {
      "cell_type": "markdown",
      "metadata": {
        "id": "view-in-github",
        "colab_type": "text"
      },
      "source": [
        "<a href=\"https://colab.research.google.com/github/lisa11323/BNPL/blob/main/Normalization.ipynb\" target=\"_parent\"><img src=\"https://colab.research.google.com/assets/colab-badge.svg\" alt=\"Open In Colab\"/></a>"
      ]
    },
    {
      "cell_type": "markdown",
      "source": [
        "# **정규화**"
      ],
      "metadata": {
        "id": "_KUhNRzjGeMK"
      }
    },
    {
      "cell_type": "code",
      "execution_count": null,
      "metadata": {
        "colab": {
          "base_uri": "https://localhost:8080/"
        },
        "id": "N-xesH_YGAJb",
        "outputId": "09dac7b0-8f47-4f68-b5cc-7a2353d92d93"
      },
      "outputs": [
        {
          "output_type": "stream",
          "name": "stdout",
          "text": [
            "Drive already mounted at /content/drive; to attempt to forcibly remount, call drive.mount(\"/content/drive\", force_remount=True).\n"
          ]
        }
      ],
      "source": [
        "from google.colab import drive\n",
        "import pandas as pd\n",
        "\n",
        "# 구글 드라이브 마운트\n",
        "drive.mount('/content/drive')\n",
        "\n",
        "# 파일 경로 지정\n",
        "file_path = '/content/drive/MyDrive/민준문정/GetAppReviews정리/GetappReview2744(길이감정토픽11개추가_결측치제거).xlsx'\n",
        "\n",
        "# 엑셀 파일 읽기\n",
        "df = pd.read_excel(file_path)"
      ]
    },
    {
      "cell_type": "code",
      "source": [
        "from sklearn.preprocessing import MinMaxScaler\n",
        "\n",
        "# 정규화할 열 목록\n",
        "columns_to_normalize = [\n",
        "    'Title_length', 'Content_length', 'Pros_length', 'Cons_length', 'Overall_rating',\n",
        "    'Value_for_money', 'Ease_of_use', 'Features', 'Customer_Support',\n",
        "    'Likelihood_to_recommend', 'Title_Sentiment_Score', 'Content_Sentiment_Score', 'Pros_Sentiment_Score', 'Cons_Sentiment_Score',\n",
        "    'Topic_1', 'Topic_2', 'Topic_3', 'Topic_4', 'Topic_5', 'Topic_6',\n",
        "    'Topic_7', 'Topic_8', 'Topic_9', 'Topic_10', 'Topic_11'\n",
        "]\n",
        "\n",
        "# MinMaxScaler 객체 생성\n",
        "scaler = MinMaxScaler()\n",
        "\n",
        "# 필요한 열만 선택하여 정규화 수행\n",
        "df[columns_to_normalize] = scaler.fit_transform(df[columns_to_normalize])\n",
        "\n",
        "# 결과 확인\n",
        "print(df.head())"
      ],
      "metadata": {
        "colab": {
          "base_uri": "https://localhost:8080/"
        },
        "id": "aAX3yUg6Gc3M",
        "outputId": "d8fc7fc2-a97c-48ff-f759-2bf3aef1ecbf"
      },
      "execution_count": null,
      "outputs": [
        {
          "output_type": "stream",
          "name": "stdout",
          "text": [
            "                Name                                         Title  \\\n",
            "0         Sabrina M.                        Great transaction tool   \n",
            "1   KAREN YULIETH M.                                 Easy payments   \n",
            "2         Sabrina M.  PayPal Buy, pay and manage your transactions   \n",
            "3  Luis Guilherme M.                 International online payments   \n",
            "4           lucas s.                                   sensational   \n",
            "\n",
            "   Title_length                                            Content  \\\n",
            "0      0.156250         Fully satisfied with this transaction tool   \n",
            "1      0.085938  Exceptional, wonderful, very easy to use and v...   \n",
            "2      0.328125  I made a PayPal account a long time ago, but n...   \n",
            "3      0.210938                      International online payments   \n",
            "4      0.070312      great experience years using paypal excellent   \n",
            "\n",
            "   Content_length                                               Pros  \\\n",
            "0        0.013841  I use PayPal to receive payments for sales of ...   \n",
            "1        0.017993  It is a platform that makes it easy for users ...   \n",
            "2        0.046021         be able to make a transfer in a simple way   \n",
            "3        0.009343  Simple platform, easy to add cards and money t...   \n",
            "4        0.014879          everything is great for transfer payments   \n",
            "\n",
            "   Pros_length                                               Cons  \\\n",
            "0     0.172386  I use PayPal to receive payments for sales of ...   \n",
            "1     0.134078          Customer service should be more immediate   \n",
            "2     0.033520  Paypal has high fees for the user of this digi...   \n",
            "3     0.094174  Lack of installment option for international p...   \n",
            "4     0.032721  You're welcome because PayPal is great for eve...   \n",
            "\n",
            "   Cons_length  Overall_rating  ...   Topic_2   Topic_3   Topic_4   Topic_5  \\\n",
            "0     0.182432             1.0  ...  0.045310  0.046941  0.738785  0.047987   \n",
            "1     0.034628             1.0  ...  0.022160  0.022940  0.022946  0.023469   \n",
            "2     0.047297             1.0  ...  0.045316  0.046943  0.046919  0.047987   \n",
            "3     0.045608             1.0  ...  0.045316  0.046943  0.046919  0.047987   \n",
            "4     0.043074             1.0  ...  0.036421  0.037726  0.037713  0.038571   \n",
            "\n",
            "    Topic_6   Topic_7   Topic_8   Topic_9  Topic_10  Topic_11  \n",
            "0  0.037143  0.047992  0.041103  0.043256  0.045984  0.046809  \n",
            "1  0.017260  0.023470  0.020104  0.021156  0.958986  0.022893  \n",
            "2  0.037144  0.047993  0.041104  0.681088  0.045987  0.046810  \n",
            "3  0.037144  0.047993  0.041104  0.681088  0.045987  0.046810  \n",
            "4  0.029508  0.038575  0.033043  0.034770  0.246997  0.615068  \n",
            "\n",
            "[5 rows x 35 columns]\n"
          ]
        }
      ]
    },
    {
      "cell_type": "code",
      "source": [
        "# 정규화된 데이터를 엑셀 파일로 저장\n",
        "output_file_path = '/content/drive/MyDrive/민준문정/GetApp정규화완료데이터.xlsx'\n",
        "df.to_excel(output_file_path, index=False)"
      ],
      "metadata": {
        "id": "lG9hUuSFGgu0"
      },
      "execution_count": null,
      "outputs": []
    }
  ]
}